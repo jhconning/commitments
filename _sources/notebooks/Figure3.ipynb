{
 "cells": [
  {
   "cell_type": "markdown",
   "id": "ea841b59-4f85-4854-9d55-606acfbb653b",
   "metadata": {},
   "source": [
    "# Figure 3 Replication"
   ]
  },
  {
   "cell_type": "markdown",
   "id": "25fb0eee-ef46-42f2-8c29-d43b2a25d6f6",
   "metadata": {},
   "source": [
    "This page contains the code to replicate Figure 3 in the paper which shows captured 'profits.' \n",
    "\n",
    "A legal non-profit cannot distribute profits but, following the literature, we assume the commercial non-profit distributes 'captured profits' in the form of perquisites or other benefits to its directors.  \n",
    "\n",
    "Hybrid firms are for-profit firms with social-investors (e.g. mission-oriented non-profit shareholders in a for-profit microfinance firm)\n",
    "\n",
    "## Code\n",
    "\n",
    "Several functions used can be found in the python module [Contract.py](Contract.py)"
   ]
  },
  {
   "cell_type": "code",
   "execution_count": 2,
   "id": "0d6a688c-5df8-4fb3-9800-64fe5f3e4b30",
   "metadata": {},
   "outputs": [],
   "source": [
    "import Contract"
   ]
  },
  {
   "cell_type": "markdown",
   "id": "e95dbeb5-0ff0-4bc4-ba81-1c03f4b0a370",
   "metadata": {},
   "source": [
    "Code below uses this module to produce Figure 1.  Code is hidden in HTML view. Click button to display."
   ]
  },
  {
   "cell_type": "code",
   "execution_count": 3,
   "id": "a47342b1-bbac-41c6-92bc-64533fb34741",
   "metadata": {
    "tags": [
     "hide_input"
    ]
   },
   "outputs": [],
   "source": [
    "import numpy as np\n",
    "import matplotlib.pyplot as plt\n",
    "from ipywidgets import interact, fixed\n",
    "plt.rcParams['figure.figsize'] = 10, 8\n",
    "np.set_printoptions(precision=2) "
   ]
  },
  {
   "cell_type": "markdown",
   "id": "8c62e45a-2dac-41c4-a1a1-3ad92ab465e3",
   "metadata": {},
   "source": [
    "**Commercial non-profits/hybrid ownership**\n",
    "\n",
    "Parameter $\\alpha$ summarizes the degree of 'hybridity' or non-profit orientation. \n",
    "- $\\alpha=1$: a pure for-profit firm where 100 percent of the raw profits can be captured and distributed by owner/shareholders.\n",
    "\n",
    "- $\\alpha=0$: pure non-profit. No profits can be captured and distributed for the benefit of owners. \n",
    "\n",
    "- $0 < \\alpha=0 < 1$: Hybrid ownership firm.  A non-profit where fraction $\\alpha$ of raw profits are captured (e.g. indirectly via perquisites and other benefits) or a hybrid ownership firm (e.g. B-corporation or a for-profit that has significant non-profit shareholders, as is quite common in modern microfinance).\n",
    "\n",
    "A 'pure' for profit (with $\\alpha$=1.0) earns a reduced (possibly negative) profit due to it's inability to commit. Seen in the plot as profits the height of the horizontal line.\n",
    "\n",
    "Any non-profit with $\\alpha$ above about 0.4 and below 1.0 can better commit to not renegotiate a larger set of contracts and therefore can offer a more profitable renegotiation-proof contract. Even though they capture only fraction $\\alpha$ of those profits, the take home profits exceed the profits of the pure for-profit. "
   ]
  },
  {
   "cell_type": "markdown",
   "id": "d14b0864-57fe-49a1-9fbc-01a858e1fcdd",
   "metadata": {},
   "source": [
    "THe no-renegotiation constraint is:\n",
    "\n",
    "$$\n",
    "\\alpha\\Pi_{1}(C_{1}^{m1}(C_{1});C_{1})\\leq\\eta(\\alpha)\n",
    "$$\n",
    "\n",
    "We will illustrate with a 'non-pecuniary' sanction (e.g. guilt or mission-drift penalty)\n",
    "\n",
    "$$\n",
    "\\eta(\\alpha) = B \\cdot (1 - \\alpha)\n",
    "$$\n",
    "\n",
    "Where $B$ is a constant, for example $B = \\bar \\kappa$"
   ]
  },
  {
   "cell_type": "markdown",
   "id": "cbdcfaae-98a1-4390-8c3b-21bc9a4d62e7",
   "metadata": {},
   "source": [
    "This implies that the managers/board of a pure for-profit firm feel no non-pecuniary sanction at renegotiating a contract but a firm of type $\\alpha <1$ does incur a sanction for breaching commitments they'd made in period 0.  This then implies that we can now write the no-renegotiation constraint as:\n",
    "\n",
    "$$\n",
    "\\Pi_{1}(C_{1}^{m1}(C_{1});C_{1})\\leq  \\kappa(\\alpha) \n",
    "$$\n",
    "\n",
    "where $\\kappa(\\alpha) = \\frac{\\eta(\\alpha)}{\\alpha}$\n",
    "\n",
    "Given our earlier stated choice of $\\eta(\\alpha) = 10 \\cdot (1 - \\alpha)$ we will therefore use in the illustrated contracts below:\n",
    "\n",
    "$$\n",
    "\\kappa(\\alpha) = \\frac{B}{\\alpha} - B\n",
    "$$\n",
    "\n",
    "This is monotonically decreasing in $\\alpha$ from prohibitively high as $\\alpha \\rightarrow 0$ as $\\kappa(\\alpha) \\rightarrow 0$ to $\\kappa(1) = 0$."
   ]
  },
  {
   "cell_type": "markdown",
   "id": "4f0c2bbc-df07-46f4-9250-eef95e6daf29",
   "metadata": {},
   "source": [
    "## Figure 3 plot"
   ]
  },
  {
   "cell_type": "code",
   "execution_count": 4,
   "id": "90e2a4ac-7302-48ea-b55c-21fdf0d382c5",
   "metadata": {
    "tags": [
     "hide_input"
    ]
   },
   "outputs": [],
   "source": [
    "def hybrid_plot(y0=100, beta=0.65, rho=1.01, ax = None):\n",
    "    cM     = Contract.Monopoly(beta=beta)\n",
    "    cM.rho = rho\n",
    "    \n",
    "    cM.y      = np.array([y0, (300-y0)/2, (300-y0)/2])         \n",
    "    num       = 100\n",
    "    alphs     = np.linspace(0.01, 1, num)      # step through different values of alpha\n",
    "    \n",
    "    eta =  10*(np.ones(num) - alphs)   # eta(alpha) = 10*(1-alpha)  non-pecuniary\n",
    "    KA  =  eta/alphs                   # kappa(alpha)  \n",
    "    \n",
    "    cMRP      = np.zeros((3,num))          # initialize matrices to store iterated values for later plot\n",
    "    zeros     = np.zeros(num)             \n",
    "    pvRP      = np.zeros(num)\n",
    "    pvaRP     = np.zeros(num)        \n",
    "    pvRP_full = np.zeros(num) \n",
    "    \n",
    "    \n",
    "    for i in range(num):\n",
    "        cM.kappa = KA[i]                    # change optimal contract\n",
    "        cMRP[:,i] = cM.reneg_proof()\n",
    "        pvRP[i] = cM.PV(cM.y - cMRP[:,i])   # raw profit\n",
    "        pvaRP[i] = alphs[i] * pvRP[i]       # captured profit  = alpha * raw\n",
    "\n",
    "    pvRP_full = pvRP[-1]*np.ones(num)       # pure profit level (alpha=1)\n",
    "    \n",
    "    if ax is None:\n",
    "        ax = plt.gca()  \n",
    "        \n",
    "    ax.plot(alphs, pvRP_full,'--', label='pure for-profit')\n",
    "    ax.plot(alphs, pvRP, label='raw profit', linestyle=':', color='black')\n",
    "    ax.plot(alphs, pvaRP, label='captured profit', color='black')\n",
    "    ax.plot(alphs, zeros, label='zero profit', color='black', alpha=0.5)\n",
    "    ax.text(0.3,10, f'$y = $ {cM.y}')\n",
    "\n",
    "    if ax is None:\n",
    "        ax = plt.gca()  \n",
    "        ax.set_title(r'Captured Profits by firm type $\\alpha$')\n",
    "        ax.set_xlabel(r'firm type $ \\alpha$', fontsize=11)\n",
    "        ax.set_ylabel('Captured Profit', fontsize=11)\n",
    "        ax.legend(loc='upper center', bbox_to_anchor=(0.5, -0.1),\n",
    "          fancybox=None, ncol=5)\n",
    "    ax.spines['right'].set_visible(False)\n",
    "    ax.spines['top'].set_visible(False)\n",
    "    \n",
    "    if pvRP[-1]>0:\n",
    "        ax.fill_between(alphs, np.fmax(pvaRP, pvRP_full), pvRP_full, hatch='/', facecolor='grey', alpha=0.4)\n",
    "    else:\n",
    "        ax.fill_between(alphs, np.fmax(pvaRP, zeros), zeros, hatch='/', facecolor='grey', alpha=0.4)\n",
    "    \n",
    "    ax.set_xlim(0,1)\n",
    "    ax.set_ylim(-2,12)"
   ]
  },
  {
   "cell_type": "code",
   "execution_count": 5,
   "id": "ace5385c-8c97-4fe2-b9b2-3f3e9a635945",
   "metadata": {
    "tags": [
     "hide_input"
    ]
   },
   "outputs": [
    {
     "data": {
      "image/png": "[encoded data removed]",
      "text/plain": [
       "<Figure size 720x576 with 4 Axes>"
      ]
     },
     "metadata": {
      "needs_background": "light"
     },
     "output_type": "display_data"
    }
   ],
   "source": [
    "# make figure with subplots\n",
    "f, ax = plt.subplots(2, 2, sharex=True, figsize=(10,8))\n",
    "beta = 0.65\n",
    "rho = 1.05\n",
    "hybrid_plot(y0=90, beta=beta, rho=rho, ax = ax[0,0])\n",
    "hybrid_plot(y0=140, beta=beta, rho=rho, ax = ax[1,0])\n",
    "hybrid_plot(y0=100, beta=beta, rho=rho, ax = ax[0,1])\n",
    "hybrid_plot(y0=160, beta=beta, rho=rho, ax = ax[1,1])\n",
    "\n",
    "ax[1,0].set_xlabel(r\"Firm type $\\alpha$\")\n",
    "ax[0,0].set_ylabel(r\"Profits\")\n",
    "ax[1,0].set_ylabel(r\"Profits\")\n",
    "ax[0,1].set_yticklabels([])\n",
    "ax[1,1].set_xlabel(r\"Firm type $\\alpha$\")\n",
    "ax[1,1].set_yticklabels([])\n",
    "f.savefig('Figure3.pdf')\n",
    "f.tight_layout();"
   ]
  },
  {
   "cell_type": "markdown",
   "id": "bc68ba88-8a31-4d3d-9c47-119222196e98",
   "metadata": {
    "tags": []
   },
   "source": [
    "## Interactive Plot and gif\n",
    "\n",
    "In order for the widget sliders to affect the chart you must be running this on a jupyter notebooks server.  If you are viewing this on the web, click on the Rocket icon button above to launch a cloud server service (Binder, or google colab)."
   ]
  },
  {
   "cell_type": "code",
   "execution_count": 6,
   "id": "e7c6f86a-b2d6-48f5-a1b8-b330f5aca3a0",
   "metadata": {},
   "outputs": [
    {
     "data": {
      "application/vnd.jupyter.widget-view+json": {
       "model_id": "1aef535175d74b42b3cd29fc1c7bd45e",
       "version_major": 2,
       "version_minor": 0
      },
      "text/plain": [
       "interactive(children=(IntSlider(value=100, description='y0', max=200, min=50, step=5), FloatSlider(value=0.65,…"
      ]
     },
     "metadata": {},
     "output_type": "display_data"
    }
   ],
   "source": [
    "interact(hybrid_plot, y0=(50, 200, 5), beta=(0.4, 0.95, 0.05), rho=(0.501, 1.501, 0.1), ax=fixed(None));"
   ]
  },
  {
   "cell_type": "markdown",
   "id": "2bb3b3be-a5a6-4519-bd6d-74f7b33cbec0",
   "metadata": {},
   "source": [
    "A gif to illustrate how the plot adjusts to parameter changes:\n",
    "\n",
    "![gif](captured_profit2.gif)"
   ]
  }
 ],
 "metadata": {
  "kernelspec": {
   "display_name": "Python 3",
   "language": "python",
   "name": "python3"
  },
  "language_info": {
   "codemirror_mode": {
    "name": "ipython",
    "version": 3
   },
   "file_extension": ".py",
   "mimetype": "text/x-python",
   "name": "python",
   "nbconvert_exporter": "python",
   "pygments_lexer": "ipython3",
   "version": "3.7.10"
  },
  "widgets": {
   "application/vnd.jupyter.widget-state+json": {
    "state": {
     "0a7205b440d04ee19fea0324c45e5bb9": {
      "model_module": "@jupyter-widgets/base",
      "model_module_version": "1.2.0",
      "model_name": "LayoutModel",
      "state": {}
     },
     "13c168a575544f74b5619ee442b13641": {
      "model_module": "@jupyter-widgets/base",
      "model_module_version": "1.2.0",
      "model_name": "LayoutModel",
      "state": {}
     },
     "1aef535175d74b42b3cd29fc1c7bd45e": {
      "model_module": "@jupyter-widgets/controls",
      "model_module_version": "1.5.0",
      "model_name": "VBoxModel",
      "state": {
       "_dom_classes": [
        "widget-interact"
       ],
       "children": [
        "IPY_MODEL_491468b1d52a45eb9fdcca64e2206e9a",
        "IPY_MODEL_d4f2ab75e8bf47c18c103341a36416ec",
        "IPY_MODEL_37ad774948aa41ffb5269054ec90ffe8",
        "IPY_MODEL_8c417f64bbe948ebb83aee131da25f82"
       ],
       "layout": "IPY_MODEL_4c3456c025a84730941aa0b3e7684990"
      }
     },
     "3243086dd3d24e7fb3c67f715efc52a5": {
      "model_module": "@jupyter-widgets/base",
      "model_module_version": "1.2.0",
      "model_name": "LayoutModel",
      "state": {}
     },
     "37ad774948aa41ffb5269054ec90ffe8": {
      "model_module": "@jupyter-widgets/controls",
      "model_module_version": "1.5.0",
      "model_name": "FloatSliderModel",
      "state": {
       "description": "rho",
       "layout": "IPY_MODEL_3243086dd3d24e7fb3c67f715efc52a5",
       "max": 1.501,
       "min": 0.501,
       "step": 0.1,
       "style": "IPY_MODEL_990ed022e1d54fbf96a85613764f377a",
       "value": 1.01
      }
     },
     "491468b1d52a45eb9fdcca64e2206e9a": {
      "model_module": "@jupyter-widgets/controls",
      "model_module_version": "1.5.0",
      "model_name": "IntSliderModel",
      "state": {
       "description": "y0",
       "layout": "IPY_MODEL_13c168a575544f74b5619ee442b13641",
       "max": 200,
       "min": 50,
       "step": 5,
       "style": "IPY_MODEL_66d01f81ea0446199030fbedc599dc93",
       "value": 100
      }
     },
     "4c3456c025a84730941aa0b3e7684990": {
      "model_module": "@jupyter-widgets/base",
      "model_module_version": "1.2.0",
      "model_name": "LayoutModel",
      "state": {}
     },
     "66d01f81ea0446199030fbedc599dc93": {
      "model_module": "@jupyter-widgets/controls",
      "model_module_version": "1.5.0",
      "model_name": "SliderStyleModel",
      "state": {
       "description_width": ""
      }
     },
     "7a1a49a23fbc479288518754e3bbb555": {
      "model_module": "@jupyter-widgets/controls",
      "model_module_version": "1.5.0",
      "model_name": "SliderStyleModel",
      "state": {
       "description_width": ""
      }
     },
     "8c417f64bbe948ebb83aee131da25f82": {
      "model_module": "@jupyter-widgets/output",
      "model_module_version": "1.0.0",
      "model_name": "OutputModel",
      "state": {
       "layout": "IPY_MODEL_0a7205b440d04ee19fea0324c45e5bb9",
       "outputs": [
        {
         "data": {
          "image/png": "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\n",
          "text/plain": "<Figure size 720x576 with 1 Axes>"
         },
         "metadata": {
          "needs_background": "light"
         },
         "output_type": "display_data"
        }
       ]
      }
     },
     "990ed022e1d54fbf96a85613764f377a": {
      "model_module": "@jupyter-widgets/controls",
      "model_module_version": "1.5.0",
      "model_name": "SliderStyleModel",
      "state": {
       "description_width": ""
      }
     },
     "a6741d608f9943ed80e9245eac4f45f6": {
      "model_module": "@jupyter-widgets/base",
      "model_module_version": "1.2.0",
      "model_name": "LayoutModel",
      "state": {}
     },
     "d4f2ab75e8bf47c18c103341a36416ec": {
      "model_module": "@jupyter-widgets/controls",
      "model_module_version": "1.5.0",
      "model_name": "FloatSliderModel",
      "state": {
       "description": "beta",
       "layout": "IPY_MODEL_a6741d608f9943ed80e9245eac4f45f6",
       "max": 0.95,
       "min": 0.4,
       "step": 0.05,
       "style": "IPY_MODEL_7a1a49a23fbc479288518754e3bbb555",
       "value": 0.65
      }
     }
    },
    "version_major": 2,
    "version_minor": 0
   }
  }
 },
 "nbformat": 4,
 "nbformat_minor": 5
}
