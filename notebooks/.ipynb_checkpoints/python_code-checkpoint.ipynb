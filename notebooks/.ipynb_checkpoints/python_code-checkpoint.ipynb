{
 "cells": [
  {
   "cell_type": "markdown",
   "id": "9edf6e06-3ea0-488d-ab6a-e5be80258038",
   "metadata": {},
   "source": [
    "# Note on Python Code\n",
    "\n",
    "We've written a [Contract.py](Contract.py) python module to help define functions that make it easy to establish preferences and parameters under different contracting environments and solve for equilibrium contracts.  \n"
   ]
  },
  {
   "cell_type": "code",
   "execution_count": 1,
   "id": "fbb318ff-91b5-4d3c-90b8-6b43689af217",
   "metadata": {
    "tags": [
     "hide_input"
    ]
   },
   "outputs": [],
   "source": [
    "import Contract"
   ]
  },
  {
   "cell_type": "markdown",
   "id": "56a2b89d-4ab1-4628-b683-8986be28efac",
   "metadata": {},
   "source": [
    "We've defined a `Contract` class which serves as a template of sorts to create different instances of contract objects.  We can then modify attributes (e.g. parameters) associated with a particular instance, and also apply methods (e.g. solve for equilibrium contracts, or calculate useful things like the present discounted value).  \n",
    "\n",
    "For example, below we define `cC` as an instance of the competitive contract class and examine its default parameters."
   ]
  },
  {
   "cell_type": "code",
   "execution_count": 2,
   "id": "66adbf28-3cb4-4cba-8980-13d4b94b636d",
   "metadata": {},
   "outputs": [
    {
     "name": "stdout",
     "output_type": "stream",
     "text": [
      "beta    : 0.7\n",
      "kappa   : 0\n",
      "rho     : 1.2\n",
      "y       : [100 100 100]\n"
     ]
    }
   ],
   "source": [
    "cC = Contract.Competitive(beta=0.7)\n",
    "cC.print_params()"
   ]
  },
  {
   "cell_type": "markdown",
   "id": "e88c6527-e336-4585-b83c-54a9e4ba05db",
   "metadata": {},
   "source": [
    "We can then do things such as find the \"full commitment\" (i.e. first-best) contract under the assumption that banks would never renegotiate.\n",
    "\n",
    "You can see how this present-biased consumer borrows in period 0 and then sets up constant repayments in period 1 and 2.  The consumer's optimum consumption smoothing contract is:"
   ]
  },
  {
   "cell_type": "code",
   "execution_count": 3,
   "id": "4e57abf6-d5ed-44b6-8706-13a89235b6eb",
   "metadata": {},
   "outputs": [
    {
     "data": {
      "text/plain": [
       "array([120.68803907,  89.65598047,  89.65598047])"
      ]
     },
     "execution_count": 3,
     "metadata": {},
     "output_type": "execute_result"
    }
   ],
   "source": [
    "cC.fcommit()"
   ]
  },
  {
   "cell_type": "markdown",
   "id": "9fde127b-9bde-4b11-8225-968d09cd7d00",
   "metadata": {},
   "source": [
    "Given that the consumer has an income stream `y` we can see the borrowing (-) and repayments as:"
   ]
  },
  {
   "cell_type": "code",
   "execution_count": 4,
   "id": "659966f5-32b0-4fd2-b732-cad06b41050a",
   "metadata": {},
   "outputs": [
    {
     "data": {
      "text/plain": [
       "array([-20.68803907,  10.34401953,  10.34401953])"
      ]
     },
     "execution_count": 4,
     "metadata": {},
     "output_type": "execute_result"
    }
   ],
   "source": [
    "cC.y - cC.fcommit() "
   ]
  },
  {
   "cell_type": "markdown",
   "id": "cbbd2c72-e780-4b20-b1f1-12d73c84f7b1",
   "metadata": {},
   "source": [
    "We also have methods for doing things such as find the minimum renegotiation penalty that allows us to sustain the  $\\bar \\kappa$.  "
   ]
  },
  {
   "cell_type": "code",
   "execution_count": 5,
   "id": "e6d404e5-8522-4ea7-93eb-bd775c0107e9",
   "metadata": {},
   "outputs": [
    {
     "data": {
      "text/plain": [
       "2.3294778074268097"
      ]
     },
     "execution_count": 5,
     "metadata": {},
     "output_type": "execute_result"
    }
   ],
   "source": [
    "cC.kbar()"
   ]
  },
  {
   "cell_type": "markdown",
   "id": "3e841734-dc39-4452-8fde-47913b4b9a20",
   "metadata": {},
   "source": [
    "If the bank faces renegotiation costs $\\kappa > \\bar kappa$ then the full-commitment contract will be 'renegotiation-proof'"
   ]
  },
  {
   "cell_type": "code",
   "execution_count": 6,
   "id": "1b236648-9559-4bbd-9750-460293b8881b",
   "metadata": {},
   "outputs": [
    {
     "data": {
      "text/plain": [
       "array([120.68803907,  89.65598047,  89.65598047])"
      ]
     },
     "execution_count": 6,
     "metadata": {},
     "output_type": "execute_result"
    }
   ],
   "source": [
    "cC.kappa = 10\n",
    "cC.reneg_proof()"
   ]
  },
  {
   "cell_type": "markdown",
   "id": "00f3a1cc-3f0d-4bbb-a72a-752d9dcb2455",
   "metadata": {},
   "source": [
    "If, however, the bank faces a renegotiation costs $\\kappa < \\bar kappa$ then the 'renegotiation-proof' contract will become distorted.  Period-0 self needs to tilt the contract toward the contract preferred by her later self by just enough to reduce future gains to renegotiation by enough to make a renegotiation-proof contract work with the available external $\\kappa$ renegotiation penalty."
   ]
  },
  {
   "cell_type": "code",
   "execution_count": 7,
   "id": "112b5540-2078-4752-9f64-68b4e8337538",
   "metadata": {},
   "outputs": [
    {
     "data": {
      "text/plain": [
       "array([120.84922353,  94.16379033,  84.98698614])"
      ]
     },
     "execution_count": 7,
     "metadata": {},
     "output_type": "execute_result"
    }
   ],
   "source": [
    "cC.kappa = 1\n",
    "cC.reneg_proof()"
   ]
  }
 ],
 "metadata": {
  "kernelspec": {
   "display_name": "Python 3",
   "language": "python",
   "name": "python3"
  },
  "language_info": {
   "codemirror_mode": {
    "name": "ipython",
    "version": 3
   },
   "file_extension": ".py",
   "mimetype": "text/x-python",
   "name": "python",
   "nbconvert_exporter": "python",
   "pygments_lexer": "ipython3",
   "version": "3.7.10"
  },
  "widgets": {
   "application/vnd.jupyter.widget-state+json": {
    "state": {},
    "version_major": 2,
    "version_minor": 0
   }
  }
 },
 "nbformat": 4,
 "nbformat_minor": 5
}
